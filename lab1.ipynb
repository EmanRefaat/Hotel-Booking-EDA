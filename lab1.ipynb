{
  "nbformat": 4,
  "nbformat_minor": 0,
  "metadata": {
    "colab": {
      "provenance": [],
      "authorship_tag": "ABX9TyPzfbG8lVF8TjST6k9I0dfl",
      "include_colab_link": true
    },
    "kernelspec": {
      "name": "python3",
      "display_name": "Python 3"
    },
    "language_info": {
      "name": "python"
    }
  },
  "cells": [
    {
      "cell_type": "markdown",
      "metadata": {
        "id": "view-in-github",
        "colab_type": "text"
      },
      "source": [
        "<a href=\"https://colab.research.google.com/github/EmanRefaat/dataAnalyst/blob/main/lab1.ipynb\" target=\"_parent\"><img src=\"https://colab.research.google.com/assets/colab-badge.svg\" alt=\"Open In Colab\"/></a>"
      ]
    },
    {
      "cell_type": "markdown",
      "source": [
        "# Introduction to Python\n",
        "\n",
        "---"
      ],
      "metadata": {
        "id": "5rqjarvuAIyB"
      }
    },
    {
      "cell_type": "markdown",
      "source": [
        "Data Type"
      ],
      "metadata": {
        "id": "eKGhaF0tKRN4"
      }
    },
    {
      "cell_type": "code",
      "source": [
        "type(True)"
      ],
      "metadata": {
        "colab": {
          "base_uri": "https://localhost:8080/"
        },
        "id": "DGD8l0oNAeNC",
        "outputId": "cbe118af-fe3d-4320-bb57-386ba71276dc"
      },
      "execution_count": null,
      "outputs": [
        {
          "output_type": "execute_result",
          "data": {
            "text/plain": [
              "bool"
            ]
          },
          "metadata": {},
          "execution_count": 1
        }
      ]
    },
    {
      "cell_type": "code",
      "source": [
        "type(\"hello there \")"
      ],
      "metadata": {
        "colab": {
          "base_uri": "https://localhost:8080/"
        },
        "id": "vQbxjDt9KbB_",
        "outputId": "c0ed76c2-49e7-4665-862c-770a925d35db"
      },
      "execution_count": null,
      "outputs": [
        {
          "output_type": "execute_result",
          "data": {
            "text/plain": [
              "str"
            ]
          },
          "metadata": {},
          "execution_count": 2
        }
      ]
    },
    {
      "cell_type": "code",
      "source": [
        "type(12.6)"
      ],
      "metadata": {
        "colab": {
          "base_uri": "https://localhost:8080/"
        },
        "id": "jVb8vQykKf6O",
        "outputId": "098e7917-4062-457f-80e4-8ea58ddb88d5"
      },
      "execution_count": null,
      "outputs": [
        {
          "output_type": "execute_result",
          "data": {
            "text/plain": [
              "float"
            ]
          },
          "metadata": {},
          "execution_count": 3
        }
      ]
    },
    {
      "cell_type": "code",
      "source": [
        "type([1,2,3,\"Mary\"])"
      ],
      "metadata": {
        "colab": {
          "base_uri": "https://localhost:8080/"
        },
        "id": "9euy5gwEKkny",
        "outputId": "295c98dd-70e6-4248-a0e0-6cc9f2e1b081"
      },
      "execution_count": null,
      "outputs": [
        {
          "output_type": "execute_result",
          "data": {
            "text/plain": [
              "list"
            ]
          },
          "metadata": {},
          "execution_count": 5
        }
      ]
    },
    {
      "cell_type": "code",
      "source": [
        "type((1,2,3,\"Mary\"))"
      ],
      "metadata": {
        "colab": {
          "base_uri": "https://localhost:8080/"
        },
        "id": "nTM-RNICKxEM",
        "outputId": "00f61309-fdc8-4656-b2e6-9d717958b0f8"
      },
      "execution_count": null,
      "outputs": [
        {
          "output_type": "execute_result",
          "data": {
            "text/plain": [
              "tuple"
            ]
          },
          "metadata": {},
          "execution_count": 1
        }
      ]
    },
    {
      "cell_type": "code",
      "source": [
        "type((1,2,3))"
      ],
      "metadata": {
        "colab": {
          "base_uri": "https://localhost:8080/"
        },
        "id": "BtKnkCSwzGAU",
        "outputId": "ce91000e-cbce-40a5-86b9-56fdfa85e849"
      },
      "execution_count": null,
      "outputs": [
        {
          "output_type": "execute_result",
          "data": {
            "text/plain": [
              "tuple"
            ]
          },
          "metadata": {},
          "execution_count": 2
        }
      ]
    },
    {
      "cell_type": "code",
      "source": [
        "type({\"name\":\"Ali\",\"Mark\":70})\n"
      ],
      "metadata": {
        "colab": {
          "base_uri": "https://localhost:8080/"
        },
        "id": "jr-DYxlAzX6l",
        "outputId": "a1433266-f9b4-41fa-e755-9c3b00f5009a"
      },
      "execution_count": null,
      "outputs": [
        {
          "output_type": "execute_result",
          "data": {
            "text/plain": [
              "dict"
            ]
          },
          "metadata": {},
          "execution_count": 3
        }
      ]
    },
    {
      "cell_type": "markdown",
      "source": [
        "### string"
      ],
      "metadata": {
        "id": "PXTs2rOh1VE-"
      }
    },
    {
      "cell_type": "code",
      "source": [
        "print(\"hello\")"
      ],
      "metadata": {
        "colab": {
          "base_uri": "https://localhost:8080/"
        },
        "id": "tzx74R9L1fN6",
        "outputId": "e73cdb07-b7b8-4343-fca5-76a5ec0f271d"
      },
      "execution_count": null,
      "outputs": [
        {
          "output_type": "stream",
          "name": "stdout",
          "text": [
            "hello\n"
          ]
        }
      ]
    },
    {
      "cell_type": "code",
      "source": [
        "name=\"Ali\"\n",
        "countryName=\"UK\"\n",
        "print(\"Name : \", name, \"\\n Country :\", countryName)"
      ],
      "metadata": {
        "colab": {
          "base_uri": "https://localhost:8080/"
        },
        "id": "n0xaK9wR1_X5",
        "outputId": "75eb706a-fe03-4ff0-e397-6a5a44fcb236"
      },
      "execution_count": null,
      "outputs": [
        {
          "output_type": "stream",
          "name": "stdout",
          "text": [
            "Name :  Ali \n",
            " Country : UK\n"
          ]
        }
      ]
    },
    {
      "cell_type": "code",
      "source": [
        "dic= {\"name\":[\"Mary\",\"Johne\",\"Ali\"],\"grad\":[50,70,30]}\n",
        "type(dic)\n"
      ],
      "metadata": {
        "colab": {
          "base_uri": "https://localhost:8080/"
        },
        "id": "V7pDyNOY3KsF",
        "outputId": "530dce8f-4c67-4f3d-b282-647f59f72f66"
      },
      "execution_count": null,
      "outputs": [
        {
          "output_type": "execute_result",
          "data": {
            "text/plain": [
              "dict"
            ]
          },
          "metadata": {},
          "execution_count": 6
        }
      ]
    },
    {
      "cell_type": "markdown",
      "source": [
        "### Special characters"
      ],
      "metadata": {
        "id": "YjvORQiIoCvf"
      }
    },
    {
      "cell_type": "code",
      "source": [
        "#\\ , \\n , \\t , \\r , \\b\n",
        "print(\"I like \\\"paython\\\"\") # ignor character and print it\n",
        "print(\"new line1\\n second line\") # new line\n",
        "print(\"new line1\\tsecond line\") #tab space\n",
        "print(\"new line1\\r second line\") #erase any charachter befor it\n",
        "print(\"new line1\\bsecond line\") #backspace\n"
      ],
      "metadata": {
        "colab": {
          "base_uri": "https://localhost:8080/"
        },
        "id": "wRffT5Di4BRp",
        "outputId": "3ed9161e-75da-475e-8e87-03075b584059"
      },
      "execution_count": null,
      "outputs": [
        {
          "output_type": "stream",
          "name": "stdout",
          "text": [
            "I like \"paython\"\n",
            "new line1\n",
            " second line\n",
            "new line1\tsecond line\n",
            "new line1\r second line\n",
            "new line1\bsecond line\n"
          ]
        }
      ]
    },
    {
      "cell_type": "markdown",
      "source": [
        "### Index & Slicing"
      ],
      "metadata": {
        "id": "ZlWQLoF6pL_v"
      }
    },
    {
      "cell_type": "code",
      "source": [
        "b = \"country\"\n",
        "b[:5]\n",
        "b[0:5] # same as b[:5]\n"
      ],
      "metadata": {
        "colab": {
          "base_uri": "https://localhost:8080/",
          "height": 35
        },
        "id": "gSJ1uWHEpqiL",
        "outputId": "d0c56128-8bae-457c-de66-f25deb92ba1d"
      },
      "execution_count": null,
      "outputs": [
        {
          "output_type": "execute_result",
          "data": {
            "text/plain": [
              "'count'"
            ],
            "application/vnd.google.colaboratory.intrinsic+json": {
              "type": "string"
            }
          },
          "metadata": {},
          "execution_count": 5
        }
      ]
    },
    {
      "cell_type": "code",
      "source": [
        "b[-4] # same as b[3]\n",
        "\n"
      ],
      "metadata": {
        "colab": {
          "base_uri": "https://localhost:8080/",
          "height": 35
        },
        "id": "Jf5_Db_xrrJu",
        "outputId": "12414097-0749-4b6e-8f47-f29b7051e05e"
      },
      "execution_count": null,
      "outputs": [
        {
          "output_type": "execute_result",
          "data": {
            "text/plain": [
              "'n'"
            ],
            "application/vnd.google.colaboratory.intrinsic+json": {
              "type": "string"
            }
          },
          "metadata": {},
          "execution_count": 6
        }
      ]
    },
    {
      "cell_type": "code",
      "source": [
        "b[::2] # from start till end step by 2"
      ],
      "metadata": {
        "colab": {
          "base_uri": "https://localhost:8080/",
          "height": 35
        },
        "id": "Rkx-PsJurtwD",
        "outputId": "5190ecd6-0f8f-444d-ec3e-27196125a1fd"
      },
      "execution_count": null,
      "outputs": [
        {
          "output_type": "execute_result",
          "data": {
            "text/plain": [
              "'cuty'"
            ],
            "application/vnd.google.colaboratory.intrinsic+json": {
              "type": "string"
            }
          },
          "metadata": {},
          "execution_count": 7
        }
      ]
    },
    {
      "cell_type": "code",
      "source": [
        "b[::] # will whole word , equal b[::1]"
      ],
      "metadata": {
        "colab": {
          "base_uri": "https://localhost:8080/",
          "height": 35
        },
        "id": "jVT_P8-mrwZf",
        "outputId": "eb9a4df7-0e16-46aa-8151-bc0375d20693"
      },
      "execution_count": null,
      "outputs": [
        {
          "output_type": "execute_result",
          "data": {
            "text/plain": [
              "'country'"
            ],
            "application/vnd.google.colaboratory.intrinsic+json": {
              "type": "string"
            }
          },
          "metadata": {},
          "execution_count": 8
        }
      ]
    },
    {
      "cell_type": "code",
      "source": [
        "print(b[::-1]) # print reverse"
      ],
      "metadata": {
        "colab": {
          "base_uri": "https://localhost:8080/"
        },
        "id": "dPVU6VxHsAPQ",
        "outputId": "cbb6ea90-c2f3-484a-eaa3-48cbcdc2f6c9"
      },
      "execution_count": null,
      "outputs": [
        {
          "output_type": "stream",
          "name": "stdout",
          "text": [
            "yrtnuoc\n"
          ]
        }
      ]
    },
    {
      "cell_type": "markdown",
      "source": [
        "### Contantenation"
      ],
      "metadata": {
        "id": "_S8nA_jWs-_F"
      }
    },
    {
      "cell_type": "code",
      "source": [
        "p1=\"united\"\n",
        "p2=\"Kingdam\"\n",
        "print(p1+p2)"
      ],
      "metadata": {
        "colab": {
          "base_uri": "https://localhost:8080/"
        },
        "id": "I5hz613KtEDw",
        "outputId": "d521f706-fddb-46e8-fe8a-e2edca5a9ca6"
      },
      "execution_count": null,
      "outputs": [
        {
          "output_type": "stream",
          "name": "stdout",
          "text": [
            "unitedKingdam\n"
          ]
        }
      ]
    },
    {
      "cell_type": "code",
      "source": [
        "print(p1+\" \"+p2)"
      ],
      "metadata": {
        "colab": {
          "base_uri": "https://localhost:8080/"
        },
        "id": "W_AuebimtQlo",
        "outputId": "2773202c-e0c4-4232-ada6-294df6067cb2"
      },
      "execution_count": null,
      "outputs": [
        {
          "output_type": "stream",
          "name": "stdout",
          "text": [
            "united Kingdam\n"
          ]
        }
      ]
    },
    {
      "cell_type": "markdown",
      "source": [
        "### formate string"
      ],
      "metadata": {
        "id": "O1JqDGfwtcVU"
      }
    },
    {
      "cell_type": "code",
      "source": [
        "c=\"I am {}\"\n",
        "d=50\n",
        "print(c.format(d)) # to add string with number\n",
        "print(c)"
      ],
      "metadata": {
        "colab": {
          "base_uri": "https://localhost:8080/"
        },
        "id": "Up7Yp5FKtgeb",
        "outputId": "e69728be-fa8d-4a93-88cf-9702105ca2b5"
      },
      "execution_count": null,
      "outputs": [
        {
          "output_type": "stream",
          "name": "stdout",
          "text": [
            "I am 50\n",
            "I am {}\n"
          ]
        }
      ]
    },
    {
      "cell_type": "code",
      "source": [
        "s= \"I {} be {} next year\"\n",
        "print(s.format(\"will\",30))"
      ],
      "metadata": {
        "colab": {
          "base_uri": "https://localhost:8080/"
        },
        "id": "nhKRCT_huHZK",
        "outputId": "cf627a02-d7a7-42a3-bd54-3b1482c5b606"
      },
      "execution_count": null,
      "outputs": [
        {
          "output_type": "stream",
          "name": "stdout",
          "text": [
            "I will be 30 next year\n"
          ]
        }
      ]
    },
    {
      "cell_type": "code",
      "source": [
        "s= \"I {0} be {1} next year\" # here use index for format\n",
        "x=\"will\"\n",
        "y=30\n",
        "print(s.format(x,y))"
      ],
      "metadata": {
        "colab": {
          "base_uri": "https://localhost:8080/"
        },
        "id": "zAuO_H0GuXwI",
        "outputId": "e0a10cb5-ae24-4894-ce9d-16b8d399553d"
      },
      "execution_count": null,
      "outputs": [
        {
          "output_type": "stream",
          "name": "stdout",
          "text": [
            "I will be 30 next year\n"
          ]
        }
      ]
    },
    {
      "cell_type": "code",
      "source": [
        "s= \"I {a} be {b} next year\" # here use index for format\n",
        "x=\"will\"\n",
        "y=30\n",
        "print(s.format(a=x,b=y))"
      ],
      "metadata": {
        "colab": {
          "base_uri": "https://localhost:8080/"
        },
        "id": "mPzERAZuvLTI",
        "outputId": "af819693-d25e-4fe0-98b6-187eba96be25"
      },
      "execution_count": null,
      "outputs": [
        {
          "output_type": "stream",
          "name": "stdout",
          "text": [
            "I will be 30 next year\n"
          ]
        }
      ]
    },
    {
      "cell_type": "code",
      "source": [
        "# %d (integer), %f (float), %s (string), %a (place holder general)\n",
        "st=\"I bought %d kgs of %s that cost me %f pounds\"%(5,\"apples\",15.20)\n",
        "print(st)"
      ],
      "metadata": {
        "colab": {
          "base_uri": "https://localhost:8080/"
        },
        "id": "2zqOAMgVwECm",
        "outputId": "f64fd8fb-85a6-4fcc-e8d7-917665a1a9ee"
      },
      "execution_count": null,
      "outputs": [
        {
          "output_type": "stream",
          "name": "stdout",
          "text": [
            "I bought 5 kgs of apples that cost me 15.200000 pounds\n"
          ]
        }
      ]
    },
    {
      "cell_type": "code",
      "source": [],
      "metadata": {
        "id": "Js6jT4uoxlkt"
      },
      "execution_count": null,
      "outputs": []
    },
    {
      "cell_type": "markdown",
      "source": [
        "### Operations"
      ],
      "metadata": {
        "id": "PJT46ULRzACL"
      }
    },
    {
      "cell_type": "code",
      "source": [
        "10*2\n",
        "8%3"
      ],
      "metadata": {
        "colab": {
          "base_uri": "https://localhost:8080/"
        },
        "id": "41xtk7yMzCzC",
        "outputId": "b6781a96-3459-49fc-f8e8-009d0ba1a72a"
      },
      "execution_count": null,
      "outputs": [
        {
          "output_type": "execute_result",
          "data": {
            "text/plain": [
              "2"
            ]
          },
          "metadata": {},
          "execution_count": 22
        }
      ]
    },
    {
      "cell_type": "code",
      "source": [
        "88/3"
      ],
      "metadata": {
        "colab": {
          "base_uri": "https://localhost:8080/"
        },
        "id": "PDvM4Yv5zNnN",
        "outputId": "e984f419-3b71-4e76-cde8-72d7f5f5e54b"
      },
      "execution_count": null,
      "outputs": [
        {
          "output_type": "execute_result",
          "data": {
            "text/plain": [
              "2.6666666666666665"
            ]
          },
          "metadata": {},
          "execution_count": 23
        }
      ]
    },
    {
      "cell_type": "code",
      "source": [
        "8//3"
      ],
      "metadata": {
        "colab": {
          "base_uri": "https://localhost:8080/"
        },
        "id": "LOt__E_wzRhu",
        "outputId": "5d1722a9-ec90-493d-feff-7fb691699b57"
      },
      "execution_count": null,
      "outputs": [
        {
          "output_type": "execute_result",
          "data": {
            "text/plain": [
              "2"
            ]
          },
          "metadata": {},
          "execution_count": 24
        }
      ]
    },
    {
      "cell_type": "code",
      "source": [
        "#Pmdas\n",
        "(5+3*6.6/12)**2\n"
      ],
      "metadata": {
        "colab": {
          "base_uri": "https://localhost:8080/"
        },
        "id": "OVrQ3DzqzVLD",
        "outputId": "dc0b1aab-2922-48fc-e33a-7125ff68cf3d"
      },
      "execution_count": null,
      "outputs": [
        {
          "output_type": "execute_result",
          "data": {
            "text/plain": [
              "44.22249999999999"
            ]
          },
          "metadata": {},
          "execution_count": 25
        }
      ]
    },
    {
      "cell_type": "markdown",
      "source": [
        "### Operators"
      ],
      "metadata": {
        "id": "cD393ED80qw2"
      }
    },
    {
      "cell_type": "code",
      "source": [
        "5==7"
      ],
      "metadata": {
        "colab": {
          "base_uri": "https://localhost:8080/"
        },
        "id": "F9TGYlOgzoSO",
        "outputId": "df05d279-4f12-41ba-f652-07d45df1b34c"
      },
      "execution_count": null,
      "outputs": [
        {
          "output_type": "execute_result",
          "data": {
            "text/plain": [
              "False"
            ]
          },
          "metadata": {},
          "execution_count": 26
        }
      ]
    },
    {
      "cell_type": "code",
      "source": [
        "5>7"
      ],
      "metadata": {
        "colab": {
          "base_uri": "https://localhost:8080/"
        },
        "id": "GoOB4qJ20wGW",
        "outputId": "dca6d675-a0e0-4393-c79a-dea28b125efa"
      },
      "execution_count": null,
      "outputs": [
        {
          "output_type": "execute_result",
          "data": {
            "text/plain": [
              "False"
            ]
          },
          "metadata": {},
          "execution_count": 27
        }
      ]
    },
    {
      "cell_type": "code",
      "source": [
        "5<=7"
      ],
      "metadata": {
        "colab": {
          "base_uri": "https://localhost:8080/"
        },
        "id": "vq62pS7Z0yAn",
        "outputId": "09517ca6-c0b8-4322-a7ca-5f9a2e87c71e"
      },
      "execution_count": null,
      "outputs": [
        {
          "output_type": "execute_result",
          "data": {
            "text/plain": [
              "True"
            ]
          },
          "metadata": {},
          "execution_count": 28
        }
      ]
    },
    {
      "cell_type": "code",
      "source": [
        "d=4\n",
        "e=5\n",
        "f=7\n",
        "d>e and d<f"
      ],
      "metadata": {
        "colab": {
          "base_uri": "https://localhost:8080/"
        },
        "id": "yhqcmydB01UX",
        "outputId": "4855f73f-24cb-48bc-fc12-aaaa19699d16"
      },
      "execution_count": null,
      "outputs": [
        {
          "output_type": "execute_result",
          "data": {
            "text/plain": [
              "False"
            ]
          },
          "metadata": {},
          "execution_count": 29
        }
      ]
    },
    {
      "cell_type": "code",
      "source": [
        "d>e or d<f"
      ],
      "metadata": {
        "colab": {
          "base_uri": "https://localhost:8080/"
        },
        "id": "Pc17cFMB1BSP",
        "outputId": "45b2826a-fc2c-4848-d498-02daf5b3aeff"
      },
      "execution_count": null,
      "outputs": [
        {
          "output_type": "execute_result",
          "data": {
            "text/plain": [
              "True"
            ]
          },
          "metadata": {},
          "execution_count": 30
        }
      ]
    },
    {
      "cell_type": "code",
      "source": [
        "not(d>e)"
      ],
      "metadata": {
        "colab": {
          "base_uri": "https://localhost:8080/"
        },
        "id": "NpC6P64E1GJr",
        "outputId": "1e5727f7-7c0b-423b-e3f6-c3818c90a410"
      },
      "execution_count": null,
      "outputs": [
        {
          "output_type": "execute_result",
          "data": {
            "text/plain": [
              "True"
            ]
          },
          "metadata": {},
          "execution_count": 31
        }
      ]
    },
    {
      "cell_type": "code",
      "source": [],
      "metadata": {
        "id": "wnIdt-lb1PEs"
      },
      "execution_count": null,
      "outputs": []
    }
  ]
}