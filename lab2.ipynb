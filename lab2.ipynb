{
  "nbformat": 4,
  "nbformat_minor": 0,
  "metadata": {
    "colab": {
      "provenance": [],
      "authorship_tag": "ABX9TyPpBwDEORqAWdsMy3/JSTle",
      "include_colab_link": true
    },
    "kernelspec": {
      "name": "python3",
      "display_name": "Python 3"
    },
    "language_info": {
      "name": "python"
    }
  },
  "cells": [
    {
      "cell_type": "markdown",
      "metadata": {
        "id": "view-in-github",
        "colab_type": "text"
      },
      "source": [
        "<a href=\"https://colab.research.google.com/github/EmanRefaat/dataAnalyst/blob/main/lab2.ipynb\" target=\"_parent\"><img src=\"https://colab.research.google.com/assets/colab-badge.svg\" alt=\"Open In Colab\"/></a>"
      ]
    },
    {
      "cell_type": "markdown",
      "source": [
        "If Statment in python"
      ],
      "metadata": {
        "id": "3lnd5xlzImJ4"
      }
    },
    {
      "cell_type": "code",
      "source": [
        "a=15\n",
        "b=3\n",
        "if a==b: print(\"two numbers are equal\")\n",
        "elif a< b: print(\"number2 is greater than number 1\")\n",
        "else: print(\"number 2 is smaller than number 1\")"
      ],
      "metadata": {
        "colab": {
          "base_uri": "https://localhost:8080/"
        },
        "id": "ImTODRNHIqi3",
        "outputId": "fed74689-df44-4cb8-86e4-5f6875942278"
      },
      "execution_count": 1,
      "outputs": [
        {
          "output_type": "stream",
          "name": "stdout",
          "text": [
            "number 2 is smaller than number 1\n"
          ]
        }
      ]
    },
    {
      "cell_type": "code",
      "source": [
        "7/2 # devision but will return float"
      ],
      "metadata": {
        "colab": {
          "base_uri": "https://localhost:8080/"
        },
        "id": "A6xD3XmUJg6y",
        "outputId": "8337b66a-a855-4682-a46c-003285ecdcd5"
      },
      "execution_count": 2,
      "outputs": [
        {
          "output_type": "execute_result",
          "data": {
            "text/plain": [
              "3.5"
            ]
          },
          "metadata": {},
          "execution_count": 2
        }
      ]
    },
    {
      "cell_type": "code",
      "source": [
        "7//2 # devision will retun integer"
      ],
      "metadata": {
        "colab": {
          "base_uri": "https://localhost:8080/"
        },
        "id": "L-z0__NZJmiN",
        "outputId": "ef65a1bb-b116-46a4-da75-aa3cf3c84785"
      },
      "execution_count": 3,
      "outputs": [
        {
          "output_type": "execute_result",
          "data": {
            "text/plain": [
              "3"
            ]
          },
          "metadata": {},
          "execution_count": 3
        }
      ]
    },
    {
      "cell_type": "code",
      "source": [
        "7%2 # remainder of divesion"
      ],
      "metadata": {
        "colab": {
          "base_uri": "https://localhost:8080/"
        },
        "id": "A1y1_lUYJo1F",
        "outputId": "d09c1685-3ea1-431c-9cb0-1c96d4cee3a3"
      },
      "execution_count": 4,
      "outputs": [
        {
          "output_type": "execute_result",
          "data": {
            "text/plain": [
              "1"
            ]
          },
          "metadata": {},
          "execution_count": 4
        }
      ]
    },
    {
      "cell_type": "code",
      "source": [
        "a=-100\n",
        "if a==0: print(\"Number is Zero\")\n",
        "elif a <0 : print(\"number is negative\")\n",
        "else: print(\"number is positive\")"
      ],
      "metadata": {
        "colab": {
          "base_uri": "https://localhost:8080/"
        },
        "id": "MIN1A-3HJrt4",
        "outputId": "3c6610c8-ffc7-4c0e-d3ea-21cd3f92b9d3"
      },
      "execution_count": 5,
      "outputs": [
        {
          "output_type": "stream",
          "name": "stdout",
          "text": [
            "number is negative\n"
          ]
        }
      ]
    },
    {
      "cell_type": "code",
      "source": [
        "for i in [1,2,3,4,5,6,7]:\n",
        "  print(i)\n",
        "  a=10\n",
        "  print(a*10)"
      ],
      "metadata": {
        "colab": {
          "base_uri": "https://localhost:8080/"
        },
        "id": "Mh_VSHKGKWtG",
        "outputId": "6c66db9b-4eeb-468d-89ce-a23dfc0f34a3"
      },
      "execution_count": 6,
      "outputs": [
        {
          "output_type": "stream",
          "name": "stdout",
          "text": [
            "1\n",
            "100\n",
            "2\n",
            "100\n",
            "3\n",
            "100\n",
            "4\n",
            "100\n",
            "5\n",
            "100\n",
            "6\n",
            "100\n",
            "7\n",
            "100\n"
          ]
        }
      ]
    },
    {
      "cell_type": "code",
      "source": [
        "for i in range(1,10,2):\n",
        "  print(\"2 X {} = \".format(i), i*2)"
      ],
      "metadata": {
        "colab": {
          "base_uri": "https://localhost:8080/"
        },
        "id": "R6HlT1n7K0hy",
        "outputId": "4316ff1f-7a85-4bbf-a3f4-0bf5cad217b5"
      },
      "execution_count": 9,
      "outputs": [
        {
          "output_type": "stream",
          "name": "stdout",
          "text": [
            "2 X 1 =  2\n",
            "2 X 3 =  6\n",
            "2 X 5 =  10\n",
            "2 X 7 =  14\n",
            "2 X 9 =  18\n"
          ]
        }
      ]
    },
    {
      "cell_type": "code",
      "source": [
        "stop_var=5\n",
        "iterate_var =5\n",
        "# while this condition is true , run the block of code till the condition true.\n",
        "while iterate_var == stop_var:\n",
        "  print(\"this while and the item is : \", iterate_var)\n",
        "  iterate_var +=1\n",
        "print (\"outside the while loop\", iterate_var)\n"
      ],
      "metadata": {
        "colab": {
          "base_uri": "https://localhost:8080/"
        },
        "id": "G359MhW7MCNf",
        "outputId": "aad8d9d5-38ef-4f15-bfad-4b6ca2d2afa9"
      },
      "execution_count": 11,
      "outputs": [
        {
          "output_type": "stream",
          "name": "stdout",
          "text": [
            "this while and the item is :  5\n",
            "outside the while loop 6\n"
          ]
        }
      ]
    },
    {
      "cell_type": "code",
      "source": [
        "stop_var=5\n",
        "iterate_var =0\n",
        "# while this condition is true , run the block of code till the condition true.\n",
        "while True:\n",
        "  print(\"this while and the item is : \", iterate_var)\n",
        "  iterate_var +=1\n",
        "  if iterate_var == stop_var : break\n",
        "print (\"outside the while loop\", iterate_var)"
      ],
      "metadata": {
        "colab": {
          "base_uri": "https://localhost:8080/"
        },
        "id": "RIhnaDoVLZCZ",
        "outputId": "20e755b8-4ab9-44bd-e37a-2db16dffe019"
      },
      "execution_count": 12,
      "outputs": [
        {
          "output_type": "stream",
          "name": "stdout",
          "text": [
            "this while and the item is :  0\n",
            "this while and the item is :  1\n",
            "this while and the item is :  2\n",
            "this while and the item is :  3\n",
            "this while and the item is :  4\n",
            "outside the while loop 5\n"
          ]
        }
      ]
    },
    {
      "cell_type": "code",
      "source": [
        "stop_var=5\n",
        "iterate_var =0\n",
        "# while this condition is true , run the block of code till the condition true.\n",
        "while iterate_var < stop_var:\n",
        "\n",
        "  iterate_var +=1\n",
        "  if iterate_var == 2 : continue # here will skip the value 2 and dont peint it\n",
        "  print(\"this while and the item is : \", iterate_var)\n",
        "print (\"outside the while loop\", iterate_var)"
      ],
      "metadata": {
        "colab": {
          "base_uri": "https://localhost:8080/"
        },
        "id": "KCx3ciYGP-CK",
        "outputId": "7f32459d-dc86-44db-a837-83c96d0b50eb"
      },
      "execution_count": 16,
      "outputs": [
        {
          "output_type": "stream",
          "name": "stdout",
          "text": [
            "this while and the item is :  1\n",
            "this while and the item is :  3\n",
            "this while and the item is :  4\n",
            "this while and the item is :  5\n",
            "outside the while loop 5\n"
          ]
        }
      ]
    },
    {
      "cell_type": "code",
      "source": [
        "myList = [\"Ali\", \"Mona\", 10, 12.6, True, False, \"Hanna\"]\n",
        "print(myList)\n"
      ],
      "metadata": {
        "colab": {
          "base_uri": "https://localhost:8080/"
        },
        "id": "seTtbtYNSd7i",
        "outputId": "f6928b73-0249-4c28-bd83-905171b62ab1"
      },
      "execution_count": 3,
      "outputs": [
        {
          "output_type": "stream",
          "name": "stdout",
          "text": [
            "['Ali', 'Mona', 10, 12.6, True, False, 'Hanna']\n"
          ]
        }
      ]
    },
    {
      "cell_type": "code",
      "source": [
        "print(myList[1])\n",
        "print(myList[1:4])"
      ],
      "metadata": {
        "colab": {
          "base_uri": "https://localhost:8080/"
        },
        "id": "1d9x71GRSduR",
        "outputId": "4f8139bf-940f-4782-abd7-6223e4903268"
      },
      "execution_count": 20,
      "outputs": [
        {
          "output_type": "stream",
          "name": "stdout",
          "text": [
            "Mona\n",
            "['Mona', 10, 12.6]\n"
          ]
        }
      ]
    },
    {
      "cell_type": "code",
      "source": [
        "len(myList)"
      ],
      "metadata": {
        "colab": {
          "base_uri": "https://localhost:8080/"
        },
        "id": "plKWGWO8TXVv",
        "outputId": "d89c7e64-9d64-42c7-b7ff-9df78376c834"
      },
      "execution_count": 21,
      "outputs": [
        {
          "output_type": "execute_result",
          "data": {
            "text/plain": [
              "7"
            ]
          },
          "metadata": {},
          "execution_count": 21
        }
      ]
    },
    {
      "cell_type": "code",
      "source": [
        "type(myList)"
      ],
      "metadata": {
        "colab": {
          "base_uri": "https://localhost:8080/"
        },
        "id": "AFuDsGiUTb9S",
        "outputId": "521367c6-d78b-465b-a23f-cd00ebf1cc13"
      },
      "execution_count": 22,
      "outputs": [
        {
          "output_type": "execute_result",
          "data": {
            "text/plain": [
              "list"
            ]
          },
          "metadata": {},
          "execution_count": 22
        }
      ]
    },
    {
      "cell_type": "code",
      "source": [
        "if \"Ali\" in myList: print(\"Name is exist\")"
      ],
      "metadata": {
        "colab": {
          "base_uri": "https://localhost:8080/"
        },
        "id": "h4Fi8XWcTkFp",
        "outputId": "95daaa73-cec5-4c66-e7e0-5aeb036365a1"
      },
      "execution_count": 23,
      "outputs": [
        {
          "output_type": "stream",
          "name": "stdout",
          "text": [
            "Name is exist\n"
          ]
        }
      ]
    },
    {
      "cell_type": "code",
      "source": [
        "myList.insert(1,\"Mona22\") #insert in specific index into list\n",
        "print(myList)"
      ],
      "metadata": {
        "colab": {
          "base_uri": "https://localhost:8080/"
        },
        "id": "MyT-cfxZTx5M",
        "outputId": "8f96f29f-cf8d-46c5-c9d0-10064937c6fd"
      },
      "execution_count": 4,
      "outputs": [
        {
          "output_type": "stream",
          "name": "stdout",
          "text": [
            "['Ali', 'Mona22', 'Mona', 10, 12.6, True, False, 'Hanna']\n"
          ]
        }
      ]
    },
    {
      "cell_type": "code",
      "source": [
        "#append an item at the end of the list\n",
        "myList.append(\"appEnd\")\n",
        "print(myList)"
      ],
      "metadata": {
        "colab": {
          "base_uri": "https://localhost:8080/"
        },
        "id": "ik1jF1i7ATB7",
        "outputId": "21629831-21aa-4f7e-fd64-3b7bb8198b78"
      },
      "execution_count": 5,
      "outputs": [
        {
          "output_type": "stream",
          "name": "stdout",
          "text": [
            "['Ali', 'Mona22', 'Mona', 10, 12.6, True, False, 'Hanna', 'appEnd']\n"
          ]
        }
      ]
    },
    {
      "cell_type": "code",
      "source": [
        "myList.sort()\n",
        "print(myList)"
      ],
      "metadata": {
        "colab": {
          "base_uri": "https://localhost:8080/",
          "height": 187
        },
        "id": "73NvNu3EBWte",
        "outputId": "46f31913-e348-4854-bf46-ebdf4292b177"
      },
      "execution_count": 6,
      "outputs": [
        {
          "output_type": "error",
          "ename": "TypeError",
          "evalue": "ignored",
          "traceback": [
            "\u001b[0;31m---------------------------------------------------------------------------\u001b[0m",
            "\u001b[0;31mTypeError\u001b[0m                                 Traceback (most recent call last)",
            "\u001b[0;32m<ipython-input-6-65d1592d95e4>\u001b[0m in \u001b[0;36m<cell line: 1>\u001b[0;34m()\u001b[0m\n\u001b[0;32m----> 1\u001b[0;31m \u001b[0mmyList\u001b[0m\u001b[0;34m.\u001b[0m\u001b[0msort\u001b[0m\u001b[0;34m(\u001b[0m\u001b[0;34m)\u001b[0m\u001b[0;34m\u001b[0m\u001b[0;34m\u001b[0m\u001b[0m\n\u001b[0m\u001b[1;32m      2\u001b[0m \u001b[0mprint\u001b[0m\u001b[0;34m(\u001b[0m\u001b[0mmyList\u001b[0m\u001b[0;34m)\u001b[0m\u001b[0;34m\u001b[0m\u001b[0;34m\u001b[0m\u001b[0m\n",
            "\u001b[0;31mTypeError\u001b[0m: '<' not supported between instances of 'int' and 'str'"
          ]
        }
      ]
    },
    {
      "cell_type": "code",
      "source": [
        "#extend the list by adding another list\n",
        "myList2 = [\"Hanna\", \"Lily\", \"Yusuf\"]\n",
        "myList.extend(myList2)\n",
        "print(myList)"
      ],
      "metadata": {
        "colab": {
          "base_uri": "https://localhost:8080/"
        },
        "id": "GkgfNwKFCJi-",
        "outputId": "36eae440-cac3-45ed-b276-b0eda6278a5a"
      },
      "execution_count": 7,
      "outputs": [
        {
          "output_type": "stream",
          "name": "stdout",
          "text": [
            "['Ali', 'Mona', 'Mona22', 10, 12.6, True, False, 'Hanna', 'appEnd', 'Hanna', 'Lily', 'Yusuf']\n"
          ]
        }
      ]
    },
    {
      "cell_type": "code",
      "source": [
        "myList.remove(\"Ali\")\n",
        "myList"
      ],
      "metadata": {
        "colab": {
          "base_uri": "https://localhost:8080/"
        },
        "id": "4ZH-FCfIK88Y",
        "outputId": "cd71c90a-c1eb-409e-b792-7ddd501cb8d5"
      },
      "execution_count": 8,
      "outputs": [
        {
          "output_type": "execute_result",
          "data": {
            "text/plain": [
              "['Mona',\n",
              " 'Mona22',\n",
              " 10,\n",
              " 12.6,\n",
              " True,\n",
              " False,\n",
              " 'Hanna',\n",
              " 'appEnd',\n",
              " 'Hanna',\n",
              " 'Lily',\n",
              " 'Yusuf']"
            ]
          },
          "metadata": {},
          "execution_count": 8
        }
      ]
    },
    {
      "cell_type": "code",
      "source": [
        "# how to reverse list\n",
        "print(myList2)\n",
        "print(myList2[::-1])"
      ],
      "metadata": {
        "colab": {
          "base_uri": "https://localhost:8080/"
        },
        "id": "7sS1hBx1Lmp1",
        "outputId": "dec05777-1526-4689-9482-5ac1dc19d62e"
      },
      "execution_count": 9,
      "outputs": [
        {
          "output_type": "stream",
          "name": "stdout",
          "text": [
            "['Hanna', 'Lily', 'Yusuf']\n",
            "['Yusuf', 'Lily', 'Hanna']\n"
          ]
        }
      ]
    },
    {
      "cell_type": "code",
      "source": [
        "help(myList.append(\"list\")) # to know how to use this function"
      ],
      "metadata": {
        "colab": {
          "base_uri": "https://localhost:8080/"
        },
        "id": "bLVbOzldMhe5",
        "outputId": "d7bca121-b885-4bba-8eb7-f55d25a43d17"
      },
      "execution_count": 12,
      "outputs": [
        {
          "output_type": "stream",
          "name": "stdout",
          "text": [
            "Help on NoneType object:\n",
            "\n",
            "class NoneType(object)\n",
            " |  Methods defined here:\n",
            " |  \n",
            " |  __bool__(self, /)\n",
            " |      True if self else False\n",
            " |  \n",
            " |  __repr__(self, /)\n",
            " |      Return repr(self).\n",
            " |  \n",
            " |  ----------------------------------------------------------------------\n",
            " |  Static methods defined here:\n",
            " |  \n",
            " |  __new__(*args, **kwargs) from builtins.type\n",
            " |      Create and return a new object.  See help(type) for accurate signature.\n",
            "\n"
          ]
        }
      ]
    },
    {
      "cell_type": "code",
      "source": [
        "for item in myList: # loop in list\n",
        "  print(item)"
      ],
      "metadata": {
        "colab": {
          "base_uri": "https://localhost:8080/"
        },
        "id": "3baoG7aGM8q9",
        "outputId": "1c73a12d-9e23-4ef5-bdbc-a8ef9f102a2e"
      },
      "execution_count": 13,
      "outputs": [
        {
          "output_type": "stream",
          "name": "stdout",
          "text": [
            "Mona\n",
            "Mona22\n",
            "10\n",
            "12.6\n",
            "True\n",
            "False\n",
            "Hanna\n",
            "appEnd\n",
            "Hanna\n",
            "Lily\n",
            "Yusuf\n",
            "list\n"
          ]
        }
      ]
    },
    {
      "cell_type": "code",
      "source": [
        "oldList =[100,20,2010,50,95,1021]\n",
        "newList =[]\n",
        "#convertion methods\n",
        "for i in oldList:\n",
        "  if i<100 :\n",
        "    newList.append(i)\n",
        "\n",
        "print(newList)\n"
      ],
      "metadata": {
        "colab": {
          "base_uri": "https://localhost:8080/"
        },
        "id": "83Ja9Sk5Ov5T",
        "outputId": "31feb747-865e-4756-95a3-f7e4d61f31e5"
      },
      "execution_count": 14,
      "outputs": [
        {
          "output_type": "stream",
          "name": "stdout",
          "text": [
            "[20, 50, 95]\n"
          ]
        }
      ]
    },
    {
      "cell_type": "code",
      "source": [
        "#list comprehension\n",
        "newListc= [i for i in oldList if i<100]\n",
        "print(newList)\n",
        "print(newListc)"
      ],
      "metadata": {
        "colab": {
          "base_uri": "https://localhost:8080/"
        },
        "id": "vhD7gEzYP2CX",
        "outputId": "2828c2a0-3bd2-4f45-cced-565ae1c6872a"
      },
      "execution_count": 15,
      "outputs": [
        {
          "output_type": "stream",
          "name": "stdout",
          "text": [
            "[20, 50, 95]\n",
            "[20, 50, 95]\n"
          ]
        }
      ]
    },
    {
      "cell_type": "code",
      "source": [
        "# to retun only name start with 'a' in list\n",
        "\n",
        "l=[\"Sean\", \"Yusuf\", \"Ali\", \"Sara\",\"Aml\",\"Amer\"]\n",
        "l2=[i for i in l if \"A\" in i]\n",
        "print(l2)"
      ],
      "metadata": {
        "colab": {
          "base_uri": "https://localhost:8080/"
        },
        "id": "qFNk701FQSav",
        "outputId": "089e5065-71cf-4fe1-f3f2-3b204605eabd"
      },
      "execution_count": 16,
      "outputs": [
        {
          "output_type": "stream",
          "name": "stdout",
          "text": [
            "['Ali', 'Aml', 'Amer']\n"
          ]
        }
      ]
    },
    {
      "cell_type": "code",
      "source": [
        "txt=\"python\"\n",
        "txtList= [i.upper() for i in txt]\n",
        "print(txtList)"
      ],
      "metadata": {
        "colab": {
          "base_uri": "https://localhost:8080/"
        },
        "id": "Mgaym_0yR3Py",
        "outputId": "4499835a-3b41-4ea8-a9d6-caad7a1fa1b1"
      },
      "execution_count": 18,
      "outputs": [
        {
          "output_type": "stream",
          "name": "stdout",
          "text": [
            "['P', 'Y', 'T', 'H', 'O', 'N']\n"
          ]
        }
      ]
    },
    {
      "cell_type": "code",
      "source": [
        "#nest list\n",
        "nList =[1,2,3,[\"ali\",\"mona\",\"hana\"],10]\n",
        "nList[3]"
      ],
      "metadata": {
        "colab": {
          "base_uri": "https://localhost:8080/"
        },
        "id": "LGLYcJi2Tl5O",
        "outputId": "ebf3771b-4b97-43c7-a6f7-d010b9a028a7"
      },
      "execution_count": 2,
      "outputs": [
        {
          "output_type": "execute_result",
          "data": {
            "text/plain": [
              "['ali', 'mona', 'hana']"
            ]
          },
          "metadata": {},
          "execution_count": 2
        }
      ]
    },
    {
      "cell_type": "code",
      "source": [
        "nList[3][1] #second place in neste list"
      ],
      "metadata": {
        "colab": {
          "base_uri": "https://localhost:8080/",
          "height": 35
        },
        "id": "zG-4V6sC6Z2x",
        "outputId": "31afd06c-d368-4b56-d929-7c800edb41e9"
      },
      "execution_count": 3,
      "outputs": [
        {
          "output_type": "execute_result",
          "data": {
            "text/plain": [
              "'mona'"
            ],
            "application/vnd.google.colaboratory.intrinsic+json": {
              "type": "string"
            }
          },
          "metadata": {},
          "execution_count": 3
        }
      ]
    },
    {
      "cell_type": "code",
      "source": [
        "word=\"london\" # convert string into list\n",
        "list(word.upper())\n"
      ],
      "metadata": {
        "colab": {
          "base_uri": "https://localhost:8080/"
        },
        "id": "9aNIfBhiIwhe",
        "outputId": "cc3da8e2-554f-4081-afb9-6a6a21eb4118"
      },
      "execution_count": 17,
      "outputs": [
        {
          "output_type": "execute_result",
          "data": {
            "text/plain": [
              "['L', 'O', 'N', 'D', 'O', 'N']"
            ]
          },
          "metadata": {},
          "execution_count": 17
        }
      ]
    },
    {
      "cell_type": "code",
      "source": [
        "matrix = [[0,2,2],\n",
        "          [3,4,2],\n",
        "          [9,4,3],\n",
        "          [9,10,11]]\n",
        "rows=len(matrix)\n",
        "cols= len(matrix[0])\n",
        "for i in range(rows):\n",
        "  print(\"-------- row\",i)\n",
        "  for j in range(cols):\n",
        "    print(matrix[i][j])\n",
        "print(matrix)"
      ],
      "metadata": {
        "colab": {
          "base_uri": "https://localhost:8080/"
        },
        "id": "sswGlHrV6pFT",
        "outputId": "7afa7d85-0575-4b38-a391-503545645932"
      },
      "execution_count": 14,
      "outputs": [
        {
          "output_type": "stream",
          "name": "stdout",
          "text": [
            "-------- row 0\n",
            "0\n",
            "2\n",
            "2\n",
            "-------- row 1\n",
            "3\n",
            "4\n",
            "2\n",
            "-------- row 2\n",
            "9\n",
            "4\n",
            "3\n",
            "-------- row 3\n",
            "9\n",
            "10\n",
            "11\n",
            "[[0, 2, 2], [3, 4, 2], [9, 4, 3], [9, 10, 11]]\n"
          ]
        }
      ]
    },
    {
      "cell_type": "code",
      "source": [
        "myList = [[1,2,3,4],[5,6,7],['a','b','c'],['d','e']]\n",
        "newList=[]\n",
        "for i in range(len(myList)):\n",
        "  for j in range(len(myList[i])):\n",
        "    newList.append(myList[i][j])\n",
        "print(newList)\n",
        "#to make it in comprehension\n",
        "print([j for i in myList for j in i ])"
      ],
      "metadata": {
        "colab": {
          "base_uri": "https://localhost:8080/"
        },
        "id": "mkv8N4IY9vzH",
        "outputId": "12faecbf-1473-4a72-e60c-77cd0877d98e"
      },
      "execution_count": 16,
      "outputs": [
        {
          "output_type": "stream",
          "name": "stdout",
          "text": [
            "[1, 2, 3, 4, 5, 6, 7, 'a', 'b', 'c', 'd', 'e']\n",
            "[1, 2, 3, 4, 5, 6, 7, 'a', 'b', 'c', 'd', 'e']\n"
          ]
        }
      ]
    },
    {
      "cell_type": "markdown",
      "source": [
        "### Dectionary"
      ],
      "metadata": {
        "id": "TD0H6TwzIXe2"
      }
    },
    {
      "cell_type": "code",
      "source": [
        "mdic ={\"employee\": \"Zara\",\n",
        "        \"department\": [\"operation\",\"sales\"],\n",
        "        \"last salary\":5000.0}\n",
        "print(mdic)\n",
        "print(mdic[\"employee\"])"
      ],
      "metadata": {
        "colab": {
          "base_uri": "https://localhost:8080/"
        },
        "id": "BzKsw4EvIawO",
        "outputId": "347b1a21-5fa0-4cb3-8586-2b90d3eaed51"
      },
      "execution_count": 26,
      "outputs": [
        {
          "output_type": "stream",
          "name": "stdout",
          "text": [
            "{'employee': 'Zara', 'department': ['operation', 'sales'], 'last salary': 5000.0}\n",
            "Zara\n"
          ]
        }
      ]
    },
    {
      "cell_type": "code",
      "source": [],
      "metadata": {
        "id": "xGrNPmeFJ-Tz"
      },
      "execution_count": null,
      "outputs": []
    },
    {
      "cell_type": "markdown",
      "source": [
        "### Nested dictionary"
      ],
      "metadata": {
        "id": "F4GqxWXOKZTM"
      }
    },
    {
      "cell_type": "code",
      "source": [
        "mydic ={\n",
        "    1:{\"employee\": \"Zara\", \"department\": [\"operation\",\"sales\"],\"last salary\":5000.0},\n",
        "    2:{\"employee\": \"Mona\", \"department\": \"Marketing\",\"last salary\":8000.0}\n",
        "         }\n",
        "print(mydic)\n",
        "print(mydic[2])\n",
        "print(mydic[1][\"employee\"])"
      ],
      "metadata": {
        "colab": {
          "base_uri": "https://localhost:8080/"
        },
        "id": "oPs66BZAKdra",
        "outputId": "89b2c560-eebd-4562-b67c-ed946119a006"
      },
      "execution_count": 21,
      "outputs": [
        {
          "output_type": "stream",
          "name": "stdout",
          "text": [
            "{1: {'employee': 'Zara', 'department': ['operation', 'sales'], 'last salary': 5000.0}, 2: {'employee': 'Mona', 'department': 'Marketing', 'last salary': 8000.0}}\n",
            "{'employee': 'Mona', 'department': 'Marketing', 'last salary': 8000.0}\n",
            "Zara\n"
          ]
        }
      ]
    },
    {
      "cell_type": "code",
      "source": [
        "# update dictionary\n",
        "mydic.update({\"satus\":\"perment\", \"Level\":3,\"employee\":\"Hady\"})\n",
        "mydic\n"
      ],
      "metadata": {
        "colab": {
          "base_uri": "https://localhost:8080/"
        },
        "id": "rfl_oT5ALJjz",
        "outputId": "ce7911f6-21ed-4b4d-e57c-234e01a19007"
      },
      "execution_count": 25,
      "outputs": [
        {
          "output_type": "execute_result",
          "data": {
            "text/plain": [
              "{1: {'employee': 'Zara',\n",
              "  'department': ['operation', 'sales'],\n",
              "  'last salary': 5000.0},\n",
              " 2: {'employee': 'Mona', 'department': 'Marketing', 'last salary': 8000.0},\n",
              " 'satus': 'perment',\n",
              " 'Level': 3,\n",
              " 'employee': 'Hady'}"
            ]
          },
          "metadata": {},
          "execution_count": 25
        }
      ]
    },
    {
      "cell_type": "code",
      "source": [
        "mdic.update({\"employee\":\"Sayed\"})\n",
        "mdic"
      ],
      "metadata": {
        "colab": {
          "base_uri": "https://localhost:8080/"
        },
        "id": "agmR377hNhJw",
        "outputId": "46105c4f-ca41-433e-e185-d0699458b98c"
      },
      "execution_count": 28,
      "outputs": [
        {
          "output_type": "execute_result",
          "data": {
            "text/plain": [
              "{'employee': 'Sayed',\n",
              " 'department': ['operation', 'sales'],\n",
              " 'last salary': 5000.0}"
            ]
          },
          "metadata": {},
          "execution_count": 28
        }
      ]
    },
    {
      "cell_type": "code",
      "source": [
        "for item in mdic:\n",
        "  print(mdic[item])"
      ],
      "metadata": {
        "colab": {
          "base_uri": "https://localhost:8080/"
        },
        "id": "pkTxsh_0Npz4",
        "outputId": "e564cd10-9f0d-467f-a164-dac064d273d6"
      },
      "execution_count": 29,
      "outputs": [
        {
          "output_type": "stream",
          "name": "stdout",
          "text": [
            "Sayed\n",
            "['operation', 'sales']\n",
            "5000.0\n"
          ]
        }
      ]
    },
    {
      "cell_type": "code",
      "source": [
        "for keys,values in mdic.items(): #tuples\n",
        "  print(keys, values)\n",
        "delete=\"employee\"\n",
        "mdic.pop(delete)\n",
        "print(\"update dic\")\n",
        "for keys,values in mdic.items(): #tuples\n",
        "  print(keys, values)"
      ],
      "metadata": {
        "colab": {
          "base_uri": "https://localhost:8080/"
        },
        "id": "wckE3MhyPpEu",
        "outputId": "59ac39fa-d9a5-416f-8729-cb0dab0cdbf4"
      },
      "execution_count": 30,
      "outputs": [
        {
          "output_type": "stream",
          "name": "stdout",
          "text": [
            "employee Sayed\n",
            "department ['operation', 'sales']\n",
            "last salary 5000.0\n",
            "update dic\n",
            "department ['operation', 'sales']\n",
            "last salary 5000.0\n"
          ]
        }
      ]
    },
    {
      "cell_type": "markdown",
      "source": [
        "### Tuple"
      ],
      "metadata": {
        "id": "jlQtLZ8rRL42"
      }
    },
    {
      "cell_type": "code",
      "source": [
        "mytup =(\"Audi\",\"Ford\",\"Tesla\")\n",
        "for i in range(len(mytup)) : print(mytup[i])"
      ],
      "metadata": {
        "colab": {
          "base_uri": "https://localhost:8080/"
        },
        "id": "7bpYZMhEROJJ",
        "outputId": "26534d26-5d8f-41e4-bcfa-7f0f1a7fd799"
      },
      "execution_count": 32,
      "outputs": [
        {
          "output_type": "stream",
          "name": "stdout",
          "text": [
            "Audi\n",
            "Ford\n",
            "Tesla\n"
          ]
        }
      ]
    },
    {
      "cell_type": "code",
      "source": [
        "# unpacking item\n",
        "car1, car2, car3 = mytup\n",
        "print(car2)"
      ],
      "metadata": {
        "colab": {
          "base_uri": "https://localhost:8080/"
        },
        "id": "1kAyUj8_RuJf",
        "outputId": "bf5917ec-3da9-470d-c739-c48f6ef38ff1"
      },
      "execution_count": 33,
      "outputs": [
        {
          "output_type": "stream",
          "name": "stdout",
          "text": [
            "Ford\n"
          ]
        }
      ]
    },
    {
      "cell_type": "code",
      "source": [],
      "metadata": {
        "id": "xiufwtxTSULI"
      },
      "execution_count": null,
      "outputs": []
    }
  ]
}